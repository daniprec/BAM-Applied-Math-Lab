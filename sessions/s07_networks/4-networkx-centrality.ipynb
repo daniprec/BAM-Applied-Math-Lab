{
 "cells": [
  {
   "cell_type": "markdown",
   "metadata": {},
   "source": [
    "# NetworkX\n"
   ]
  },
  {
   "cell_type": "markdown",
   "metadata": {},
   "source": [
    "## Installing NetworkX\n"
   ]
  },
  {
   "cell_type": "markdown",
   "id": "cc8bed31",
   "metadata": {},
   "source": [
    "If you are running this notebook online (in Google Colaboratory, for example), you can install NetworkX by running the following command:\n"
   ]
  },
  {
   "cell_type": "code",
   "execution_count": 121,
   "metadata": {},
   "outputs": [],
   "source": [
    "# !pip install networkx"
   ]
  },
  {
   "cell_type": "markdown",
   "metadata": {},
   "source": [
    "## 4. Centrality\n"
   ]
  },
  {
   "cell_type": "markdown",
   "metadata": {},
   "source": [
    "Centrality is a measure of the importance of nodes in a network based on their position and connectivity. There are different types of centrality measures, each capturing a different aspect of node importance.\n",
    "\n",
    "Some common centrality measures include degree centrality, betweenness centrality, closeness centrality, and eigenvector centrality.\n"
   ]
  },
  {
   "cell_type": "markdown",
   "metadata": {},
   "source": [
    "### A) Degree Centrality-undirected graphs\n"
   ]
  },
  {
   "cell_type": "markdown",
   "metadata": {},
   "source": [
    "Degree centrality is a measure of the importance of a node in a network based on the number of connections it has to other nodes. The degree centrality of a node $i$ can be calculated as:\n",
    "\n",
    "$$C_D(i) = \\frac{k_i}{n-1}$$\n",
    "\n",
    "where $k_i$ is the degree of node $i$, i.e., the number of edges that are incident to the node, and $n$ is the total number of nodes in the network. The denominator $n-1$ is used to account for the fact that a node cannot be connected to itself.\n",
    "\n",
    "The degree centrality of a node ranges from 0 to 1, with a higher value indicating a more central node in the network. Nodes with a high degree centrality are typically well-connected to other nodes, and their removal from the network can have a significant impact on its connectivity.\n"
   ]
  },
  {
   "cell_type": "code",
   "execution_count": null,
   "metadata": {},
   "outputs": [],
   "source": [
    "graph_karate = nx.karate_club_graph()\n",
    "graph_karate = nx.convert_node_labels_to_integers(graph_karate, first_label=1)\n",
    "nx.draw(graph_karate, with_labels=True)"
   ]
  },
  {
   "cell_type": "code",
   "execution_count": null,
   "metadata": {},
   "outputs": [],
   "source": [
    "# degree centrality\n",
    "degCent = nx.degree_centrality(graph_karate)\n",
    "degCent"
   ]
  },
  {
   "cell_type": "code",
   "execution_count": null,
   "metadata": {},
   "outputs": [],
   "source": [
    "# sort based on degree centrality\n",
    "sorted_degcent = {\n",
    "    k: v for k, v in sorted(degCent.items(), key=lambda item: item[1], reverse=True)\n",
    "}\n",
    "sorted_degcent"
   ]
  },
  {
   "cell_type": "code",
   "execution_count": null,
   "metadata": {},
   "outputs": [],
   "source": [
    "# degree centrality of a node\n",
    "\n",
    "degCent[34]"
   ]
  },
  {
   "cell_type": "code",
   "execution_count": null,
   "metadata": {},
   "outputs": [],
   "source": [
    "# draw a network with node sizes based on their degree centrality\n",
    "\n",
    "# create a list of node sizes based on degree centrality\n",
    "node_sizes = [10000 * v * v for v in degCent.values()]\n",
    "\n",
    "# draw the graph\n",
    "nx.draw(G, with_labels=True, node_size=node_sizes, pos=nx.spring_layout(G))"
   ]
  },
  {
   "cell_type": "code",
   "execution_count": null,
   "metadata": {},
   "outputs": [],
   "source": [
    "# colors based on degree centrality\n",
    "node_colors = [v for v in degCent.values()]\n",
    "# draw the graph\n",
    "nx.draw(\n",
    "    G,\n",
    "    with_labels=True,\n",
    "    node_size=node_sizes,\n",
    "    pos=nx.spring_layout(G),\n",
    "    node_color=node_colors,\n",
    "    cmap=plt.cm.PuBu,\n",
    ")  # Greens\n",
    "\n",
    "# PuBu stands for \"Pu\" (purple) to \"Bu\" (blue), and it is a sequential colormap that ranges from light purple to dark blue."
   ]
  },
  {
   "cell_type": "markdown",
   "metadata": {},
   "source": [
    "### B) Degree Centrality – Directed Networks\n"
   ]
  },
  {
   "cell_type": "markdown",
   "metadata": {},
   "source": [
    "Undirected networks: use degree\n",
    "\n",
    "Directed networks: use in-degree or out-degree\n"
   ]
  },
  {
   "cell_type": "code",
   "execution_count": null,
   "metadata": {},
   "outputs": [],
   "source": [
    "# describe a directedG gllobally\n",
    "# directed graph\n",
    "G = nx.DiGraph()\n",
    "\n",
    "G.add_edge(\"A\", \"B\")\n",
    "G.add_edge(\"A\", \"D\")\n",
    "G.add_edge(\"A\", \"C\")\n",
    "G.add_edge(\"B\", \"D\")\n",
    "\n",
    "# draw the nodes with labels\n",
    "nx.draw(G, with_labels=True)"
   ]
  },
  {
   "cell_type": "code",
   "execution_count": null,
   "metadata": {},
   "outputs": [],
   "source": [
    "# indegree\n",
    "indegCent = nx.in_degree_centrality(G)\n",
    "indegCent"
   ]
  },
  {
   "cell_type": "code",
   "execution_count": null,
   "metadata": {},
   "outputs": [],
   "source": [
    "# out-degree\n",
    "outdegCent = nx.out_degree_centrality(G)\n",
    "outdegCent"
   ]
  },
  {
   "cell_type": "code",
   "execution_count": null,
   "metadata": {},
   "outputs": [],
   "source": [
    "# A specific node\n",
    "outdegCent[\"A\"]"
   ]
  },
  {
   "cell_type": "markdown",
   "metadata": {},
   "source": [
    "### C) Closeness Centrality\n"
   ]
  },
  {
   "cell_type": "markdown",
   "metadata": {},
   "source": [
    "Closeness centrality is a measure of the average distance of a node to all other nodes in the network. The closeness centrality of a node $i$ can be calculated as:\n",
    "\n",
    "$$C_C(i) = \\frac{1}{\\sum\\limits_{j \\neq i} d_{ij}}$$\n",
    "\n",
    "where $d_{ij}$ is the shortest path distance between nodes $i$ and $j$. The closeness centrality of a node ranges from 0 to 1, with a higher value indicating a shorter average distance to all other nodes in the network.\n",
    "\n",
    "The closeness centrality of a node measures how quickly it can spread information or influence throughout the network, as nodes with a shorter average distance to all other nodes can communicate more efficiently. In addition, nodes with a high closeness centrality are often located in the center of the network, and their removal can have a significant impact on the network's connectivity.\n"
   ]
  },
  {
   "cell_type": "code",
   "execution_count": null,
   "metadata": {},
   "outputs": [],
   "source": [
    "# Closness centrality\n",
    "closeCent = nx.closeness_centrality(graph_karate)\n",
    "closeCent"
   ]
  },
  {
   "cell_type": "code",
   "execution_count": null,
   "metadata": {},
   "outputs": [],
   "source": [
    "# Another way to compute Closeness Centrality of a node\n",
    "NodeNumber = 34\n",
    "(len(graph_karate.nodes()) - 1) / sum(\n",
    "    nx.shortest_path_length(graph_karate, NodeNumber).values()\n",
    ")"
   ]
  },
  {
   "cell_type": "markdown",
   "metadata": {},
   "source": [
    "### D) Betweenness Centrality\n"
   ]
  },
  {
   "cell_type": "markdown",
   "metadata": {},
   "source": [
    "Betweenness centrality is a measure of the extent to which a node lies on the shortest paths between other nodes in the network. The betweenness centrality of a node $i$ can be calculated as:\n",
    "\n",
    "$$C_B(i) = \\sum\\limits_{s \\neq i \\neq t} \\frac{\\sigma_{st}(i)}{\\sigma_{st}}$$\n",
    "\n",
    "where $s$ and $t$ are two nodes in the network, $\\sigma_{st}$ is the total number of shortest paths between $s$ and $t$, and $\\sigma_{st}(i)$ is the number of shortest paths between $s$ and $t$ that pass through node $i$.\n",
    "\n",
    "The betweenness centrality of a node ranges from 0 to 1, with a higher value indicating a greater number of shortest paths that pass through the node. Nodes with a high betweenness centrality are often located on the \"bridges\" between different clusters or communities in the network, and their removal can have a significant impact on the network's connectivity.\n"
   ]
  },
  {
   "cell_type": "code",
   "execution_count": null,
   "metadata": {},
   "outputs": [],
   "source": [
    "btwnCent = nx.betweenness_centrality(graph_karate, endpoints=False)\n",
    "# endpoints = False states that each node dose not included in computation for shortest path numeration\n",
    "btwnCent"
   ]
  },
  {
   "cell_type": "code",
   "execution_count": null,
   "metadata": {},
   "outputs": [],
   "source": [
    "sorted_btwnCent = {\n",
    "    k: v for k, v in sorted(btwnCent.items(), key=lambda item: item[1], reverse=True)\n",
    "}\n",
    "sorted_btwnCent"
   ]
  },
  {
   "cell_type": "markdown",
   "metadata": {},
   "source": [
    "betwenness centrality values will\n",
    "be larger in graphs with many nodes. To control for\n",
    "this, we divide centrality values by the number of\n",
    "pairs of nodes in the graph (excluding i)\n"
   ]
  },
  {
   "cell_type": "code",
   "execution_count": null,
   "metadata": {},
   "outputs": [],
   "source": [
    "# comparison betweeness centrality in networks with diffrent number of nodes:\n",
    "# more nodes => bigger betweeness centrality => useing normalization\n",
    "btwnCent = nx.betweenness_centrality(\n",
    "    graph_karate, normalized=True, endpoints=False\n",
    ")  # defualt = normalize!\n",
    "btwnCent"
   ]
  },
  {
   "cell_type": "markdown",
   "metadata": {},
   "source": [
    "Computing betweenness centrality of all nodes can be\n",
    "very computationally expensive.\n",
    "\n",
    "Approximation: rather than computing\n",
    "betweenness centrality based on all pairs of nodes s,t ,\n",
    "we can approximate it based on a sample of nodes.\n"
   ]
  },
  {
   "cell_type": "code",
   "execution_count": null,
   "metadata": {},
   "outputs": [],
   "source": [
    "# betweenness centrality approximation\n",
    "btwnCent_approx = nx.betweenness_centrality(\n",
    "    graph_karate, normalized=True, endpoints=False, k=10\n",
    ")  # number of samples = k\n",
    "btwnCent_approx"
   ]
  },
  {
   "cell_type": "code",
   "execution_count": null,
   "metadata": {},
   "outputs": [],
   "source": [
    "sorted_btwnCent = {\n",
    "    k: v\n",
    "    for k, v in sorted(btwnCent_approx.items(), key=lambda item: item[1], reverse=True)\n",
    "}\n",
    "sorted_btwnCent"
   ]
  },
  {
   "cell_type": "markdown",
   "metadata": {},
   "source": [
    "#### Betweenness Centrality – Subsets\n"
   ]
  },
  {
   "cell_type": "code",
   "execution_count": null,
   "metadata": {},
   "outputs": [],
   "source": [
    "btwnCent_subset = nx.betweenness_centrality_subset(\n",
    "    graph_karate,\n",
    "    [34, 21, 30, 16, 27, 15, 23, 10],\n",
    "    [1, 4, 13, 11, 6, 12, 17, 7],\n",
    "    normalized=True,\n",
    ")\n",
    "btwnCent_subset"
   ]
  },
  {
   "cell_type": "markdown",
   "metadata": {},
   "source": [
    "### E) Betweenness Centrality – Edges\n"
   ]
  },
  {
   "cell_type": "markdown",
   "metadata": {},
   "source": [
    "Betweenness centrality for edges is a measure of the extent to which an edge lies on the shortest paths between other edges in the network. The betweenness centrality of an edge $e$ can be calculated as:\n",
    "\n",
    "$$C_B(e) = \\sum_{s \\neq e \\neq t} \\frac{\\sigma_{st}(e)}{\\sigma_{st}}$$\n",
    "\n",
    "where $s$ and $t$ are two nodes in the network, $\\sigma_{st}$ is the total number of shortest paths between $s$ and $t$, and $\\sigma_{st}(e)$ is the number of shortest paths between $s$ and $t$ that pass through edge $e$.\n",
    "\n",
    "The betweenness centrality of an edge ranges from 0 to 1, with a higher value indicating a greater number of shortest paths that pass through the edge. Edges with a high betweenness centrality are often located on the \"bridges\" between different clusters or communities in the network, and their removal can have a significant impact on the network's connectivity.\n"
   ]
  },
  {
   "cell_type": "code",
   "execution_count": null,
   "metadata": {},
   "outputs": [],
   "source": [
    "btwnCent_edge = nx.edge_betweenness_centrality(graph_karate, normalized=True)\n",
    "btwnCent_edge"
   ]
  },
  {
   "cell_type": "markdown",
   "metadata": {},
   "source": [
    "### G) Eigenvalue Centrality\n"
   ]
  },
  {
   "cell_type": "markdown",
   "metadata": {},
   "source": [
    "Eigenvalue centrality is a measure of the importance of a node in a network based on the importance of its neighbors. The eigenvalue centrality of a node $i$ can be calculated as the principal eigenvector of the adjacency matrix $\\mathbf{A}$ of the network:\n",
    "\n",
    "$$\\mathbf{Av} = \\lambda \\mathbf{v}$$\n",
    "\n",
    "where $\\mathbf{v}$ is the eigenvector corresponding to the largest eigenvalue $\\lambda$. The eigenvalue centrality of node $i$ is then given by the $i$-th element of $\\mathbf{v}$.\n",
    "\n",
    "The eigenvalue centrality of a node ranges from 0 to 1, with a higher value indicating a greater importance of the node and its neighbors in the network. Nodes with a high eigenvalue centrality are often located in the center of the network and are well-connected to other highly connected nodes, and their removal can have a significant impact on the network's connectivity.\n"
   ]
  },
  {
   "cell_type": "code",
   "execution_count": null,
   "metadata": {},
   "outputs": [],
   "source": [
    "# Compute the adjacency matrix of the network\n",
    "A = nx.adjacency_matrix(graph_karate)\n",
    "\n",
    "# Compute the principal eigenvector of the adjacency matrix\n",
    "eigenvector_centrality = nx.eigenvector_centrality_numpy(graph_karate)\n",
    "eigenvector_centrality"
   ]
  },
  {
   "cell_type": "code",
   "execution_count": null,
   "metadata": {},
   "outputs": [],
   "source": [
    "sorted_EigenCent = {\n",
    "    k: v\n",
    "    for k, v in sorted(\n",
    "        eigenvector_centrality.items(), key=lambda item: item[1], reverse=True\n",
    "    )\n",
    "}\n",
    "sorted_EigenCent"
   ]
  },
  {
   "cell_type": "markdown",
   "metadata": {},
   "source": [
    "#### Summery (comparison)\n"
   ]
  },
  {
   "cell_type": "code",
   "execution_count": null,
   "metadata": {},
   "outputs": [],
   "source": [
    "import pandas as pd\n",
    "\n",
    "# Create a dictionary of data\n",
    "data = {\n",
    "    \"Degree\": list(degCent.values()),\n",
    "    \"Closeness\": list(closeCent.values()),\n",
    "    \"Betweenness\": list(btwnCent.values()),\n",
    "    \"Eigenvalue\": list(eigenvector_centrality.values()),\n",
    "}\n",
    "\n",
    "# Create a pandas dataframe from the dictionary\n",
    "df = pd.DataFrame(data)\n",
    "df"
   ]
  },
  {
   "cell_type": "code",
   "execution_count": null,
   "metadata": {},
   "outputs": [],
   "source": [
    "# sorting\n",
    "df_sorted = df.sort_values(by=\"Degree\", ascending=False)\n",
    "df_sorted"
   ]
  },
  {
   "cell_type": "code",
   "execution_count": null,
   "metadata": {},
   "outputs": [],
   "source": [
    "df_two_rows = df.iloc[:2]\n",
    "df_two_rows"
   ]
  }
 ],
 "metadata": {
  "kernelspec": {
   "display_name": "coding-lab",
   "language": "python",
   "name": "python3"
  },
  "language_info": {
   "codemirror_mode": {
    "name": "ipython",
    "version": 3
   },
   "file_extension": ".py",
   "mimetype": "text/x-python",
   "name": "python",
   "nbconvert_exporter": "python",
   "pygments_lexer": "ipython3",
   "version": "3.11.9"
  }
 },
 "nbformat": 4,
 "nbformat_minor": 5
}
