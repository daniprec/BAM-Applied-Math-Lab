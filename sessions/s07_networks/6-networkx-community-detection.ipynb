{
 "cells": [
  {
   "cell_type": "markdown",
   "metadata": {},
   "source": [
    "# NetworkX\n"
   ]
  },
  {
   "cell_type": "markdown",
   "metadata": {},
   "source": [
    "## 1. Installing NetworkX\n"
   ]
  },
  {
   "cell_type": "markdown",
   "id": "cc8bed31",
   "metadata": {},
   "source": [
    "If you are running this notebook online (in Google Colaboratory, for example), you can install NetworkX by running the following command:\n"
   ]
  },
  {
   "cell_type": "code",
   "execution_count": 121,
   "metadata": {},
   "outputs": [],
   "source": [
    "# !pip install networkx"
   ]
  },
  {
   "cell_type": "code",
   "execution_count": null,
   "id": "03c5b3c6",
   "metadata": {},
   "outputs": [],
   "source": [
    "import matplotlib.pyplot as plt\n",
    "import networkx as nx"
   ]
  },
  {
   "cell_type": "markdown",
   "metadata": {},
   "source": [
    "## 6. Community Detection\n"
   ]
  },
  {
   "cell_type": "code",
   "execution_count": null,
   "metadata": {},
   "outputs": [],
   "source": [
    "pip install community"
   ]
  },
  {
   "cell_type": "code",
   "execution_count": null,
   "metadata": {},
   "outputs": [],
   "source": [
    "import community"
   ]
  },
  {
   "cell_type": "code",
   "execution_count": null,
   "metadata": {},
   "outputs": [],
   "source": [
    "# karate club network\n",
    "G = nx.karate_club_graph()\n",
    "\n",
    "# compute the communities using the Label Propagation algorithm\n",
    "communities = nx.algorithms.community.label_propagation.label_propagation_communities(G)\n",
    "\n",
    "# print the communities\n",
    "for i, c in enumerate(communities):\n",
    "    print(f\"Community {i}: {c}\")"
   ]
  },
  {
   "cell_type": "code",
   "execution_count": null,
   "metadata": {},
   "outputs": [],
   "source": [
    "# create a node color list based on the partition\n",
    "\n",
    "node_colors = []\n",
    "for n in G.nodes():\n",
    "    if n in list(communities)[0]:\n",
    "        node_colors.append(1)\n",
    "    elif n in list(communities)[1]:\n",
    "        node_colors.append(2)\n",
    "    else:\n",
    "        node_colors.append(3)\n",
    "\n",
    "# draw the graph with node colors based on the partition\n",
    "pos = nx.spring_layout(G)\n",
    "nx.draw(\n",
    "    G, pos, node_color=node_colors, cmap=plt.cm.get_cmap(\"viridis\"), with_labels=True\n",
    ")\n",
    "plt.show()"
   ]
  },
  {
   "cell_type": "code",
   "execution_count": null,
   "metadata": {},
   "outputs": [],
   "source": [
    "#!\n",
    "G.node[\"A\"][\"community\"] = 0\n",
    "G.node[\"B\"][\"community\"] = 0\n",
    "G.node[\"C\"][\"community\"] = 0\n",
    "G.node[\"D\"][\"community\"] = 0\n",
    "G.node[\"E\"][\"community\"] = 1\n",
    "G.node[\"F\"][\"community\"] = 1\n",
    "G.node[\"G\"][\"community\"] = 1\n",
    "G.node[\"H\"][\"community\"] = 1"
   ]
  },
  {
   "cell_type": "markdown",
   "metadata": {},
   "source": [
    "# Additionals\n"
   ]
  },
  {
   "cell_type": "markdown",
   "metadata": {},
   "source": [
    "NetworkX provides several built-in networks that can be used for testing and experimentation. These networks are available in the `networkx.generators` module and can be generated using functions that start with the prefix `nx.` followed by the name of the network type.\n",
    "\n",
    "Here are some examples of the built-in networks in NetworkX:\n",
    "\n",
    "- `nx.complete_graph(n)` - Generates a complete graph with `n` nodes, where each node is connected to every other node by an undirected edge.\n",
    "\n",
    "- `nx.cycle_graph(n)` - Generates a cycle graph with `n` nodes, where each node is connected to its two adjacent nodes by an undirected edge, and the last node is connected to the first node.\n",
    "\n",
    "- `nx.grid_graph(dim)` - Generates a grid graph with `dim` dimensions, where each node represents a cell in a `dim`-dimensional grid, and two nodes are connected by an undirected edge if they are adjacent cells in the grid.\n",
    "\n",
    "- `nx.balanced_tree(r, h)` - Generates a balanced tree with branching factor `r` and height `h`, where each node has exactly `r` children except for the leaf nodes at height `h`, which have no children.\n",
    "\n",
    "These are just a few examples of the built-in networks in NetworkX. You can find more information about the available network types and their parameters in the `networkx.generators` module documentation.\n"
   ]
  },
  {
   "cell_type": "code",
   "execution_count": null,
   "metadata": {},
   "outputs": [],
   "source": [
    "# complete network\n",
    "n = 10  # parameter\n",
    "nx.complete_graph(n)\n",
    "nx.draw(nx.complete_graph(n))"
   ]
  },
  {
   "cell_type": "code",
   "execution_count": null,
   "metadata": {},
   "outputs": [],
   "source": [
    "# cycle netwrok\n",
    "n = 10  # parameter\n",
    "nx.complete_graph(n)\n",
    "nx.draw(nx.cycle_graph(n))"
   ]
  },
  {
   "cell_type": "code",
   "execution_count": null,
   "metadata": {},
   "outputs": [],
   "source": [
    "# cycle netwrok\n",
    "r, h = 2, 5  # parameter\n",
    "nx.complete_graph(n)\n",
    "nx.draw(nx.balanced_tree(r, h))"
   ]
  },
  {
   "cell_type": "code",
   "execution_count": null,
   "metadata": {},
   "outputs": [],
   "source": [
    "# create a 2D grid graph with 3 rows and 4 columns\n",
    "G = nx.grid_graph(dim=[3, 4])\n",
    "\n",
    "# draw the graph\n",
    "nx.draw(G, with_labels=True)"
   ]
  }
 ],
 "metadata": {
  "kernelspec": {
   "display_name": "coding-lab",
   "language": "python",
   "name": "python3"
  },
  "language_info": {
   "codemirror_mode": {
    "name": "ipython",
    "version": 3
   },
   "file_extension": ".py",
   "mimetype": "text/x-python",
   "name": "python",
   "nbconvert_exporter": "python",
   "pygments_lexer": "ipython3",
   "version": "3.11.9"
  }
 },
 "nbformat": 4,
 "nbformat_minor": 5
}
