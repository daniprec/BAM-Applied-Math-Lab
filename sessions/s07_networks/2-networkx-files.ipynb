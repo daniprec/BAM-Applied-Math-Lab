{
 "cells": [
  {
   "cell_type": "markdown",
   "metadata": {},
   "source": [
    "# NetworkX\n"
   ]
  },
  {
   "cell_type": "markdown",
   "metadata": {},
   "source": [
    "## Installing NetworkX\n"
   ]
  },
  {
   "cell_type": "markdown",
   "id": "cc8bed31",
   "metadata": {},
   "source": [
    "If you are running this notebook online (in Google Colaboratory, for example), you can install NetworkX by running the following command:\n"
   ]
  },
  {
   "cell_type": "code",
   "execution_count": 121,
   "metadata": {},
   "outputs": [],
   "source": [
    "# !pip install networkx"
   ]
  },
  {
   "cell_type": "markdown",
   "metadata": {},
   "source": [
    "## 2. Importing Network information\n"
   ]
  },
  {
   "cell_type": "markdown",
   "metadata": {},
   "source": [
    "### A) Importing from file.txt and GEXF file\n"
   ]
  },
  {
   "cell_type": "markdown",
   "metadata": {},
   "source": [
    "To import network information into NetworkX, you can use one of several functions depending on the format of your data. Here are some examples:\n",
    "\n",
    "1. Importing from an edge list file:\n",
    "\n",
    "Suppose you have an edge list file in the following format:\n",
    "\n",
    "```\n",
    "A B\n",
    "A C\n",
    "B D\n",
    "C D\n",
    "D E\n",
    "```\n",
    "\n",
    "You can import this file into a NetworkX graph using the `read_edgelist` function as follows:\n"
   ]
  },
  {
   "cell_type": "code",
   "execution_count": null,
   "metadata": {},
   "outputs": [],
   "source": [
    "G = nx.read_edgelist(\"Sample1.txt\")\n",
    "nx.draw(G, with_labels=True)"
   ]
  },
  {
   "cell_type": "markdown",
   "metadata": {},
   "source": [
    "2. Importing from an adjacency matrix file:\n",
    "\n",
    "Suppose you have an adjacency matrix file in the following format:\n",
    "\n",
    "```\n",
    "0 1 1 0 0\n",
    "1 0 0 1 0\n",
    "1 0 0 1 1\n",
    "0 1 1 0 1\n",
    "0 0 1 1 0\n",
    "```\n",
    "\n",
    "You can import this file into a NetworkX graph using the `from_numpy_matrix` function as follows:\n"
   ]
  },
  {
   "cell_type": "code",
   "execution_count": null,
   "metadata": {},
   "outputs": [],
   "source": [
    "import numpy as np\n",
    "import networkx as nx\n",
    "\n",
    "adj_matrix = np.loadtxt(\"sample2.txt\")\n",
    "\n",
    "# G is the network\n",
    "G = nx.Graph()\n",
    "\n",
    "# adding edges\n",
    "for i in range(adj_matrix.shape[0]):\n",
    "    for j in range(adj_matrix.shape[1]):\n",
    "        if adj_matrix[i][j] == 1:\n",
    "            G.add_edge(i, j)\n",
    "\n",
    "nx.draw(G, with_labels=True)"
   ]
  },
  {
   "cell_type": "markdown",
   "metadata": {},
   "source": [
    "3. Importing from a GEXF file:\n",
    "\n",
    "If you have a network file in the GEXF format, which is a popular format for exchanging graph data between different software packages, you can import it into a NetworkX graph using the `read_gexf` function as follows:\n"
   ]
  },
  {
   "cell_type": "markdown",
   "metadata": {},
   "source": [
    "Here's an example of a simple graph in GEXF format:\n",
    "\n",
    "```xml\n",
    "<?xml version=\"1.0\" encoding=\"UTF-8\"?>\n",
    "<gexf xmlns=\"http://www.gexf.net/1.3\" version=\"1.3\">\n",
    "  <meta lastmodifieddate=\"2022-10-01\">\n",
    "    <creator>NetworkX</creator>\n",
    "    <description>An example graph in GEXF format</description>\n",
    "  </meta>\n",
    "  <graph mode=\"static\" defaultedgetype=\"undirected\">\n",
    "    <nodes>\n",
    "      <node id=\"0\" label=\"Node 0\"/>\n",
    "      <node id=\"1\" label=\"Node 1\"/>\n",
    "      <node id=\"2\" label=\"Node 2\"/>\n",
    "    </nodes>\n",
    "    <edges>\n",
    "      <edge id=\"0\" source=\"0\" target=\"1\"/>\n",
    "      <edge id=\"1\" source=\"1\" target=\"2\"/>\n",
    "      <edge id=\"2\" source=\"2\" target=\"0\"/>\n",
    "    </edges>\n",
    "  </graph>\n",
    "</gexf>\n",
    "```\n"
   ]
  },
  {
   "cell_type": "code",
   "execution_count": null,
   "metadata": {},
   "outputs": [],
   "source": [
    "G = nx.read_gexf(\"Sample3.gexf\")\n",
    "nx.draw(G, with_labels=True)"
   ]
  },
  {
   "cell_type": "code",
   "execution_count": null,
   "metadata": {},
   "outputs": [],
   "source": [
    "# Save the graph as a GEXF file\n",
    "nx.write_gexf(G, \"Sample3.gexf\")"
   ]
  },
  {
   "cell_type": "markdown",
   "metadata": {},
   "source": [
    "### B) Adjacancy Matrix\n"
   ]
  },
  {
   "cell_type": "code",
   "execution_count": null,
   "metadata": {},
   "outputs": [],
   "source": [
    "import numpy as np\n",
    "import networkx as nx\n",
    "\n",
    "graph_mat = np.array(\n",
    "    [\n",
    "        [0, 1, 1, 1, 0, 1, 0, 0, 0, 0],\n",
    "        [1, 0, 0, 1, 0, 0, 1, 0, 0, 0],\n",
    "        [1, 0, 0, 0, 0, 0, 0, 0, 0, 0],\n",
    "        [1, 1, 0, 0, 1, 0, 0, 0, 0, 0],\n",
    "        [0, 0, 0, 1, 0, 1, 0, 1, 0, 0],\n",
    "        [1, 0, 0, 0, 1, 0, 0, 0, 1, 0],\n",
    "        [0, 1, 0, 0, 0, 0, 0, 0, 0, 0],\n",
    "        [0, 0, 0, 0, 1, 0, 0, 0, 0, 0],\n",
    "        [0, 0, 0, 0, 0, 1, 0, 0, 0, 1],\n",
    "        [0, 0, 0, 0, 0, 0, 0, 0, 1, 0],\n",
    "    ]\n",
    ")\n",
    "graph_mat"
   ]
  },
  {
   "cell_type": "markdown",
   "metadata": {},
   "source": [
    "converting the adjacency matrix to a networkx graph using nx.Graph:\n"
   ]
  },
  {
   "cell_type": "code",
   "execution_count": null,
   "metadata": {},
   "outputs": [],
   "source": [
    "G = nx.Graph(graph_mat)\n",
    "nx.draw_networkx(G)"
   ]
  }
 ],
 "metadata": {
  "kernelspec": {
   "display_name": "coding-lab",
   "language": "python",
   "name": "python3"
  },
  "language_info": {
   "codemirror_mode": {
    "name": "ipython",
    "version": 3
   },
   "file_extension": ".py",
   "mimetype": "text/x-python",
   "name": "python",
   "nbconvert_exporter": "python",
   "pygments_lexer": "ipython3",
   "version": "3.11.9"
  }
 },
 "nbformat": 4,
 "nbformat_minor": 5
}
