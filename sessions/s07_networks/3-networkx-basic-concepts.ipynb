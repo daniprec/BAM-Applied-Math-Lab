{
 "cells": [
  {
   "cell_type": "markdown",
   "metadata": {},
   "source": [
    "# NetworkX\n"
   ]
  },
  {
   "cell_type": "markdown",
   "metadata": {},
   "source": [
    "## Installing NetworkX\n"
   ]
  },
  {
   "cell_type": "markdown",
   "id": "cc8bed31",
   "metadata": {},
   "source": [
    "If you are running this notebook online (in Google Colaboratory, for example), you can install NetworkX by running the following command:\n"
   ]
  },
  {
   "cell_type": "code",
   "execution_count": 121,
   "metadata": {},
   "outputs": [],
   "source": [
    "# !pip install networkx"
   ]
  },
  {
   "cell_type": "code",
   "execution_count": null,
   "id": "bef8be1d",
   "metadata": {},
   "outputs": [],
   "source": [
    "import matplotlib.pyplot as plt\n",
    "import networkx as nx\n",
    "\n",
    "from networkx.algorithms import bipartite"
   ]
  },
  {
   "cell_type": "markdown",
   "metadata": {},
   "source": [
    "## 3. Basic Concepts\n"
   ]
  },
  {
   "cell_type": "markdown",
   "metadata": {},
   "source": [
    "### A) Degree\n"
   ]
  },
  {
   "cell_type": "markdown",
   "metadata": {},
   "source": [
    "The degree of a node in a network is the number of edges that it is connected to. In a network with $N$ nodes and $M$ edges, the degree $k_i$ of a node $i$ is defined as:\n",
    "\n",
    "$$ k*i = \\sum*{j=1}^M A\\_{ij} $$\n",
    "\n",
    "where $A$ is the adjacency matrix of the network, with $A_{ij} = 1$ if there is an edge connecting nodes $i$ and $j$, and $A_{ij} = 0$ otherwise.\n",
    "\n",
    "The neighborhood of a node $i$ is the set of nodes that are directly connected to $i$ by an edge. The neighborhood of $i$ is denoted as $N_i$ and is defined as:\n",
    "\n",
    "$$ N*i = \\{j \\mid A*{ij} = 1\\} $$\n",
    "\n",
    "where $A$ is the adjacency matrix of the network, with $A_{ij} = 1$ if there is an edge connecting nodes $i$ and $j$, and $A_{ij} = 0$ otherwise.\n"
   ]
  },
  {
   "cell_type": "code",
   "execution_count": null,
   "metadata": {},
   "outputs": [],
   "source": [
    "node = 2\n",
    "neighborhood = list(nx.neighbors(graph_karate, node))\n",
    "neighborhood"
   ]
  },
  {
   "cell_type": "code",
   "execution_count": null,
   "metadata": {},
   "outputs": [],
   "source": [
    "# degree = # neighbor\n",
    "len(neighborhood)"
   ]
  },
  {
   "cell_type": "code",
   "execution_count": null,
   "metadata": {},
   "outputs": [],
   "source": [
    "# Degree\n",
    "graph_karate.degree(node)"
   ]
  },
  {
   "cell_type": "code",
   "execution_count": null,
   "metadata": {},
   "outputs": [],
   "source": [
    "# All degrees\n",
    "dict(graph_karate.degree)"
   ]
  },
  {
   "cell_type": "markdown",
   "metadata": {},
   "source": [
    "### B) Triadic closure\n"
   ]
  },
  {
   "cell_type": "markdown",
   "metadata": {},
   "source": [
    "Triadic closure refers to the tendency for people who share connections in a social network to become connected, also known as the \"friend of a friend\" effect.\n",
    "\n",
    "One measure of triadic closure in a network is the clustering coefficient, which quantifies the degree to which nodes tend to cluster together in triads. The clustering coefficient of a node is defined as the fraction of the node's neighbors that are also neighbors of each other. The clustering coefficient of a network is the average clustering coefficient over all nodes in the network.\n"
   ]
  },
  {
   "cell_type": "markdown",
   "metadata": {},
   "source": [
    "#### Clustering Coefficient\n"
   ]
  },
  {
   "cell_type": "markdown",
   "metadata": {},
   "source": [
    "The clustering coefficient of a node $i$ is given by:\n",
    "\n",
    "$$C_i = \\frac{2e_i}{k_i(k_i-1)}$$\n",
    "\n",
    "where $e_i$ is the number of edges between the neighbors of node $i$, and $k_i$ is the degree of node $i$ (i.e., the number of edges incident to $i$).\n"
   ]
  },
  {
   "cell_type": "code",
   "execution_count": null,
   "metadata": {},
   "outputs": [],
   "source": [
    "nx.draw_networkx(G)"
   ]
  },
  {
   "cell_type": "code",
   "execution_count": null,
   "metadata": {},
   "outputs": [],
   "source": [
    "# local clustring (if dominator is zero => zero)\n",
    "nx.clustering(G, 2)"
   ]
  },
  {
   "cell_type": "code",
   "execution_count": null,
   "metadata": {},
   "outputs": [],
   "source": [
    "# list of Clustring Coefficients\n",
    "nx.clustering(G)"
   ]
  },
  {
   "cell_type": "markdown",
   "metadata": {},
   "source": [
    "##### Global Clustring Coefficient\n"
   ]
  },
  {
   "cell_type": "markdown",
   "metadata": {},
   "source": [
    "Many observed social networks are more clustered than would arise at random\n"
   ]
  },
  {
   "cell_type": "markdown",
   "metadata": {},
   "source": [
    "The clustering coefficient of the network is the average of the clustering coefficients of all nodes:\n",
    "\n",
    "$$C = \\frac{1}{N}\\sum_{i=1}^{N} C_i$$\n",
    "\n",
    "where $N$ is the total number of nodes in the network.\n"
   ]
  },
  {
   "cell_type": "code",
   "execution_count": null,
   "metadata": {},
   "outputs": [],
   "source": [
    "# Average clustering\n",
    "nx.average_clustering(G)"
   ]
  },
  {
   "cell_type": "markdown",
   "metadata": {},
   "source": [
    "#### Transitivity\n"
   ]
  },
  {
   "cell_type": "markdown",
   "metadata": {},
   "source": [
    "Transitivity is a property of a network that measures the likelihood that, if two nodes in the network share a common neighbor, they will also be directly connected to each other. In other words, it measures the tendency for \"triangles\" to form in the network.\n",
    "\n",
    "Formally, the transitivity of a network is defined as the ratio of the number of triangles in the network to the number of connected triples of nodes (i.e., triples of nodes that are directly connected to each other or share a common neighbor). In mathematical notation, the transitivity of a network is given by:\n",
    "\n",
    "$$\n",
    "T = \\frac{3 \\times \\text{number of triangles}}{\\text{number of connected triples}}\n",
    "$$\n",
    "\n",
    "A high transitivity indicates that nodes in the network tend to form clusters or communities, while a low transitivity indicates that the network is more of a random or decentralized structure. Transitivity is closely related to the concept of clustering coefficient, which measures the tendency for nodes to form local clusters or neighborhoods.\n"
   ]
  },
  {
   "cell_type": "code",
   "execution_count": null,
   "metadata": {},
   "outputs": [],
   "source": [
    "# transitivity\n",
    "# transitivity weights nodes with large degree higher\n",
    "nx.transitivity(G)"
   ]
  },
  {
   "cell_type": "markdown",
   "metadata": {},
   "source": [
    "### C) Path\n"
   ]
  },
  {
   "cell_type": "markdown",
   "metadata": {},
   "source": [
    "A path between two nodes $A$ and $B$ in a network is a sequence of nodes $A, X_1, X_2, ..., X_n, B$ and a sequence of edges $(A, X_1), (X_1, X_2), ..., (X_n, B)$, where each node and edge in the sequence is adjacent to the previous and next node or edge in the sequence.\n"
   ]
  },
  {
   "cell_type": "markdown",
   "metadata": {},
   "source": [
    "The length of a path is the number of edges in the path. A path with length 1 is an edge between two nodes, while a path with length 2 is a sequence of two edges and three nodes, and so on. The shortest path between two nodes is the path with the minimum length that connects them.\n"
   ]
  },
  {
   "cell_type": "code",
   "execution_count": null,
   "metadata": {},
   "outputs": [],
   "source": [
    "nx.draw(G, with_labels=True)"
   ]
  },
  {
   "cell_type": "code",
   "execution_count": null,
   "metadata": {},
   "outputs": [],
   "source": [
    "# generate all simple paths between nodes 1 and 3\n",
    "paths = nx.all_simple_paths(G, source=1, target=3)\n",
    "\n",
    "# convert the generator to a list\n",
    "Path_List = [path for path in paths]\n",
    "\n",
    "print(\"List of Path:\", Path_List)"
   ]
  },
  {
   "cell_type": "code",
   "execution_count": null,
   "metadata": {},
   "outputs": [],
   "source": [
    "Path1 = Path_List[0]\n",
    "# check if a path is valid in the graph\n",
    "is_valid = nx.is_simple_path(\n",
    "    G, Path1\n",
    ")  # A simple path is a path that does not contain any repeated nodes.\n",
    "print(\"Is valid path?\", is_valid)"
   ]
  },
  {
   "cell_type": "code",
   "execution_count": null,
   "metadata": {},
   "outputs": [],
   "source": [
    "# a False example\n",
    "nx.is_simple_path(G, [0, 8, 5])"
   ]
  },
  {
   "cell_type": "code",
   "execution_count": null,
   "metadata": {},
   "outputs": [],
   "source": [
    "# compute the edge list of a walk\n",
    "edge_list = [\n",
    "    (Path1[i], Path1[i + 1]) for i in range(len(Path1) - 1)\n",
    "]  # len(Path1)-1=length of a path\n",
    "edge_list"
   ]
  },
  {
   "cell_type": "code",
   "execution_count": null,
   "metadata": {},
   "outputs": [],
   "source": [
    "# compute the weight of a walk\n",
    "weight = sum(G[u][v][\"weight\"] for u, v in edge_list if \"weight\" in G[u][v])\n",
    "print(\"Weight of walk:\", weight)"
   ]
  },
  {
   "cell_type": "code",
   "execution_count": null,
   "metadata": {},
   "outputs": [],
   "source": [
    "# A weighted Network\n",
    "P = bipartite.weighted_projected_graph(B, bipartite.sets(B)[0])\n",
    "pos = nx.circular_layout(P)\n",
    "\n",
    "# draw the graph\n",
    "nx.draw_networkx_nodes(P, pos)\n",
    "nx.draw_networkx_edges(P, pos)\n",
    "nx.draw_networkx_labels(P, pos)\n",
    "\n",
    "# create a dictionary of edge labels\n",
    "edge_labels = {(u, v): d[\"weight\"] for u, v, d in P.edges(data=True)}\n",
    "\n",
    "# draw the edge labels\n",
    "nx.draw_networkx_edge_labels(P, pos, edge_labels=edge_labels)\n",
    "\n",
    "# show the plot\n",
    "plt.figure(figsize=(50, 30))\n",
    "plt.show()"
   ]
  },
  {
   "cell_type": "code",
   "execution_count": null,
   "metadata": {},
   "outputs": [],
   "source": [
    "# Weighted Graph\n",
    "Path1 = [\"Eve\", \"Alice\", \"Ivy\"]\n",
    "\n",
    "edge_list = [\n",
    "    (Path1[i], Path1[i + 1]) for i in range(len(Path1) - 1)\n",
    "]  # len(Path1)-1=length of a path\n",
    "\n",
    "weight = sum(P[u][v][\"weight\"] for u, v in edge_list if \"weight\" in P[u][v])\n",
    "print(\"Weight of walk:\", weight)"
   ]
  },
  {
   "cell_type": "markdown",
   "metadata": {},
   "source": [
    "### D) Cycle\n"
   ]
  },
  {
   "cell_type": "code",
   "execution_count": null,
   "metadata": {},
   "outputs": [],
   "source": [
    "# Find all cycles in the graph\n",
    "cycles = nx.simple_cycles(G)\n",
    "list(cycles)"
   ]
  },
  {
   "cell_type": "markdown",
   "metadata": {},
   "source": [
    "### E) Geodesic\n"
   ]
  },
  {
   "cell_type": "markdown",
   "metadata": {},
   "source": [
    "A geodesic between two nodes $A$ and $B$ in a network is the shortest path that connects them. In other words, it is the path with the minimum number of edges that must be traversed to get from node $A$ to node $B$. The length of a geodesic is the number of edges in the path.\n"
   ]
  },
  {
   "cell_type": "code",
   "execution_count": null,
   "metadata": {},
   "outputs": [],
   "source": [
    "# Geodesic = shortest path\n",
    "nx.shortest_path(G, 1, 2)"
   ]
  },
  {
   "cell_type": "code",
   "execution_count": null,
   "metadata": {},
   "outputs": [],
   "source": [
    "import matplotlib.pyplot as plt\n",
    "\n",
    "# compute a shortest path between two nodes\n",
    "path = nx.shortest_path(G, source=1, target=3)\n",
    "\n",
    "# compute the corresponding edges of the path\n",
    "edges = [(path[i], path[i + 1]) for i in range(len(path) - 1)]\n",
    "\n",
    "# draw the graph and the path\n",
    "pos = nx.circular_layout(G)\n",
    "nx.draw(G, pos, with_labels=True)\n",
    "nx.draw_networkx_edges(G, pos, edgelist=edges, edge_color=\"r\", width=3)"
   ]
  },
  {
   "cell_type": "code",
   "execution_count": null,
   "metadata": {},
   "outputs": [],
   "source": [
    "# Geodesic length\n",
    "nx.shortest_path_length(G, 1, 2)"
   ]
  },
  {
   "cell_type": "markdown",
   "metadata": {},
   "source": [
    "finding the Geodesic from node i to every other node is computationaly complex, so we need an effeicient algorithm to do so.\n",
    "\n",
    "    here we use breadth-first search\n"
   ]
  },
  {
   "cell_type": "code",
   "execution_count": null,
   "metadata": {},
   "outputs": [],
   "source": [
    "# breadth-first search algorithm\n",
    "T = nx.bfs_tree(G, 1)\n",
    "nx.draw_networkx(T, with_labels=True)\n",
    "list(T.edges())"
   ]
  },
  {
   "cell_type": "code",
   "execution_count": null,
   "metadata": {},
   "outputs": [],
   "source": [
    "# set the position of nodes\n",
    "pos = {\n",
    "    1: (0, 0),\n",
    "    0: (-1, -1),\n",
    "    3: (0, -1),\n",
    "    6: (1, -1),\n",
    "    2: (-1.5, -2),\n",
    "    5: (-0.5, -2),\n",
    "    4: (0.5, -2),\n",
    "    7: (0.5, -3),\n",
    "    8: (-0.5, -3),\n",
    "    9: (-0.5, -4),\n",
    "}\n",
    "\n",
    "# draw the tree using networkx\n",
    "nx.draw(T, pos, with_labels=True, arrows=True, node_size=500, font_size=16)\n",
    "\n",
    "# show the plot\n",
    "plt.show()"
   ]
  },
  {
   "cell_type": "code",
   "execution_count": null,
   "metadata": {},
   "outputs": [],
   "source": [
    "# all shortest path\n",
    "nx.shortest_path_length(G, 1)  # outputs a dictionary"
   ]
  },
  {
   "cell_type": "code",
   "execution_count": null,
   "metadata": {},
   "outputs": [],
   "source": [
    "# Average shortest path\n",
    "nx.average_shortest_path_length(G)"
   ]
  },
  {
   "cell_type": "markdown",
   "metadata": {},
   "source": [
    "### F) Eccentricity\n"
   ]
  },
  {
   "cell_type": "markdown",
   "metadata": {},
   "source": [
    "The eccentricity of a node $u$ in a network is the maximum distance between $u$ and any other node in the network. In other words, it is the maximum length of the shortest path between $u$ and any other node. The eccentricity of a network is the maximum eccentricity of any node in the network.\n"
   ]
  },
  {
   "cell_type": "code",
   "execution_count": null,
   "metadata": {},
   "outputs": [],
   "source": [
    "# Eccentricity\n",
    "# the largest distance between n and all ohter nodes:\n",
    "nx.eccentricity(G)"
   ]
  },
  {
   "cell_type": "code",
   "execution_count": null,
   "metadata": {},
   "outputs": [],
   "source": [
    "# Diameter: max Eccentricity between two nodes in whole network (max max)\n",
    "nx.diameter(G)"
   ]
  },
  {
   "cell_type": "code",
   "execution_count": null,
   "metadata": {},
   "outputs": [],
   "source": [
    "# Diameter is max eccentricity\n",
    "max(nx.eccentricity(G).values())"
   ]
  },
  {
   "cell_type": "code",
   "execution_count": null,
   "metadata": {},
   "outputs": [],
   "source": [
    "# radius: min Eccentricity between two nodes in whole network (min max)\n",
    "nx.radius(G)"
   ]
  },
  {
   "cell_type": "code",
   "execution_count": null,
   "metadata": {},
   "outputs": [],
   "source": [
    "# radius is min eccentricity\n",
    "min(nx.eccentricity(G).values())"
   ]
  },
  {
   "cell_type": "code",
   "execution_count": null,
   "metadata": {},
   "outputs": [],
   "source": [
    "# periphery\n",
    "# Eccentricity=diameter\n",
    "nx.periphery(G)"
   ]
  },
  {
   "cell_type": "code",
   "execution_count": null,
   "metadata": {},
   "outputs": [],
   "source": [
    "# the center of a graph : Eccentricity=radius\n",
    "nx.center(G)"
   ]
  },
  {
   "cell_type": "markdown",
   "metadata": {},
   "source": [
    "### G) Connectivity\n"
   ]
  },
  {
   "cell_type": "markdown",
   "metadata": {},
   "source": [
    "##### Built in Dataset\n"
   ]
  },
  {
   "cell_type": "markdown",
   "metadata": {},
   "source": [
    "NetworkX provides several built-in network datasets that can be used for testing and experimentation. These datasets are available in the NetworkX library itself and can be loaded using functions that start with the prefix `nx.` followed by the name of the dataset.\n",
    "\n",
    "Here are some examples of the built-in network datasets in NetworkX:\n",
    "\n",
    "- `nx.karate_club_graph()` - Returns the Zachary's Karate Club network, a social network of a karate club, where each node represents a member of the club, and each edge represents a friendly relationship between members.\n",
    "\n",
    "- `nx.les_miserables_graph()` - Returns a network of characters in the novel \"Les Miserables\" by Victor Hugo, where each node represents a character in the novel, and each edge represents a co-occurrence of two characters in a chapter.\n",
    "\n",
    "- `nx.davis_southern_women_graph()` - Returns a network of the social interactions between women in a southern US town in the 1930s, where each node represents a woman, and each edge represents a social relation between two women.\n",
    "\n",
    "These are just a few examples of the built-in network datasets in NetworkX. You can find more information about the available datasets and their usage in the NetworkX documentation.\n"
   ]
  },
  {
   "cell_type": "code",
   "execution_count": null,
   "metadata": {},
   "outputs": [],
   "source": [
    "# An example\n",
    "SampleG = nx.florentine_families_graph()\n",
    "# SampleG=nx.convert_node_labels_to_integers(SampleG,first_label=1)\n",
    "nx.draw(SampleG, with_labels=True)"
   ]
  },
  {
   "cell_type": "markdown",
   "metadata": {},
   "source": [
    "#### The Karate Club graph\n"
   ]
  },
  {
   "cell_type": "markdown",
   "metadata": {},
   "source": [
    "The Karate Club graph is a social network representing friendships among 34 members of a karate club, as observed by Wayne W. Zachary in 1977. Each node in the graph represents a member of the club, and each edge represents a friendship between two members. The graph has 34 nodes and 78 edges.\n",
    "\n",
    "The Karate Club is a well-known example in social network analysis and has been used to study various network properties, such as community structure and centrality measures. The graph is characterized by a split in the club into two factions, led by the club instructor (node 0) and one of the members (node 33), respectively. This split was caused by a dispute between the two leaders, which eventually led to the formation of two separate karate clubs.\n"
   ]
  },
  {
   "cell_type": "code",
   "execution_count": null,
   "metadata": {},
   "outputs": [],
   "source": [
    "# Karate Club\n",
    "G = nx.karate_club_graph()\n",
    "G = nx.convert_node_labels_to_integers(G, first_label=1)\n",
    "nx.draw(G, with_labels=True)"
   ]
  },
  {
   "cell_type": "markdown",
   "metadata": {},
   "source": [
    "the club instructor (node 0) and one of the members (node 33) representation\n"
   ]
  },
  {
   "cell_type": "code",
   "execution_count": null,
   "metadata": {},
   "outputs": [],
   "source": [
    "# Set the positions of the nodes using the Kamada-Kawai layout\n",
    "pos = nx.kamada_kawai_layout(G)\n",
    "\n",
    "# Draw the graph with red nodes for node 0 (club instructor) and node 33 (member) : they are now 1 and 34\n",
    "red_nodes = [1, 34]\n",
    "node_colors = [\"red\" if node in red_nodes else \"blue\" for node in G.nodes()]\n",
    "nx.draw_networkx_nodes(G, pos, node_color=node_colors)\n",
    "nx.draw_networkx_edges(G, pos)\n",
    "\n",
    "# Draw the labels for the nodes\n",
    "nx.draw_networkx_labels(G, pos)\n",
    "\n",
    "# Show the graph\n",
    "plt.axis(\"off\")\n",
    "plt.show()"
   ]
  },
  {
   "cell_type": "code",
   "execution_count": null,
   "metadata": {},
   "outputs": [],
   "source": [
    "# disconnection based on random selection\n",
    "import random\n",
    "\n",
    "while nx.is_connected(G):\n",
    "    # delete an edge\n",
    "    i = random.choice(list(nx.nodes(G)))\n",
    "    j = random.choice(list(nx.nodes(G)))\n",
    "    if G.has_edge(i, j):\n",
    "        G.remove_edge(i, j)\n",
    "nx.draw_networkx(G)"
   ]
  },
  {
   "cell_type": "code",
   "execution_count": null,
   "metadata": {},
   "outputs": [],
   "source": [
    "# connectivity\n",
    "# connected components\n",
    "nx.number_connected_components(G)"
   ]
  },
  {
   "cell_type": "code",
   "execution_count": null,
   "metadata": {},
   "outputs": [],
   "source": [
    "sorted(nx.connected_components(G))"
   ]
  },
  {
   "cell_type": "code",
   "execution_count": null,
   "metadata": {},
   "outputs": [],
   "source": [
    "# which component  each node belongs?\n",
    "nx.node_connected_component(G, 1)"
   ]
  },
  {
   "cell_type": "markdown",
   "metadata": {},
   "source": [
    "##### connectivity in directed graphs\n",
    "\n",
    "weakly connected = replacing all directed edges with undirected edges produces a conneceted undirected graph\n",
    "\n",
    "strongly connected = with directions\n"
   ]
  },
  {
   "cell_type": "code",
   "execution_count": null,
   "metadata": {},
   "outputs": [],
   "source": [
    "import networkx as nx\n",
    "import matplotlib.pyplot as plt\n",
    "\n",
    "# create an empty directed graph\n",
    "Directed_G = nx.DiGraph()\n",
    "\n",
    "# add nodes to the graph\n",
    "Directed_G.add_nodes_from([\"Alice\", \"Bob\", \"Charlie\", \"Dave\", \"Eve\", \"Adam\", \"Sarah\"])\n",
    "\n",
    "# add directed edges to the graph\n",
    "Directed_G.add_edge(\"Alice\", \"Bob\")\n",
    "Directed_G.add_edge(\"Bob\", \"Charlie\")\n",
    "Directed_G.add_edge(\"Dave\", \"Eve\")\n",
    "Directed_G.add_edge(\"Alice\", \"Eve\")\n",
    "Directed_G.add_edge(\"Eve\", \"Alice\")\n",
    "Directed_G.add_edge(\"Adam\", \"Sarah\")\n",
    "# Directed_G.add_edge('Adam','Bob')\n",
    "\n",
    "# draw the graph\n",
    "nx.draw(Directed_G, with_labels=True)\n",
    "\n",
    "# show the plot\n",
    "plt.show()"
   ]
  },
  {
   "cell_type": "code",
   "execution_count": null,
   "metadata": {},
   "outputs": [],
   "source": [
    "# weakly connected\n",
    "nx.is_weakly_connected(Directed_G)"
   ]
  },
  {
   "cell_type": "code",
   "execution_count": null,
   "metadata": {},
   "outputs": [],
   "source": [
    "# strongly connected\n",
    "nx.is_strongly_connected(Directed_G)"
   ]
  },
  {
   "cell_type": "code",
   "execution_count": null,
   "metadata": {},
   "outputs": [],
   "source": [
    "# weakly connected components\n",
    "sorted(nx.weakly_connected_components(Directed_G))"
   ]
  },
  {
   "cell_type": "code",
   "execution_count": null,
   "metadata": {},
   "outputs": [],
   "source": [
    "# strongly connected components\n",
    "sorted(nx.strongly_connected_components(Directed_G))"
   ]
  },
  {
   "cell_type": "markdown",
   "metadata": {},
   "source": [
    "### H) Robustness\n"
   ]
  },
  {
   "cell_type": "markdown",
   "metadata": {},
   "source": [
    "network robustness is the ability of a network to maintain its general structral properties when it faces failure or attacks\n",
    "\n",
    "types of attack: removal of nodes or edges\n",
    "\n",
    "Robustness = maintain connectivity\n",
    "\n",
    "examples: airport closure, internet router failures, power line failure\n"
   ]
  },
  {
   "cell_type": "markdown",
   "metadata": {},
   "source": [
    "#### Erdős-Rényi random graph\n"
   ]
  },
  {
   "cell_type": "markdown",
   "metadata": {},
   "source": [
    "The Erdős-Rényi random graph model is a classic random graph model that generates a graph with a fixed number of nodes, where each pair of nodes is connected with a probability p.\n"
   ]
  },
  {
   "cell_type": "code",
   "execution_count": null,
   "metadata": {},
   "outputs": [],
   "source": [
    "# create an Erdős-Rényi random network\n",
    "\n",
    "n = 10  # number of nodes\n",
    "p = 0.6  # probability of edge creation\n",
    "ER_G = nx.erdos_renyi_graph(n, p)\n",
    "\n",
    "# draw the graph\n",
    "nx.draw(ER_G, with_labels=True)"
   ]
  },
  {
   "cell_type": "markdown",
   "metadata": {},
   "source": [
    "Node connectivity: Minimum number of nodes\n",
    "needed to disconnect a graph or pair of nodes.\n",
    "\n",
    "Edge connectivity: Minimum number of edges\n",
    "needed to disconnect a graph or pair of nodes.\n",
    "\n",
    "Graphs with large node and edge connectivity are\n",
    "more robust to the loss of nodes and edges.\n"
   ]
  },
  {
   "cell_type": "code",
   "execution_count": null,
   "metadata": {},
   "outputs": [],
   "source": [
    "# what is the smallest number of nodes that can be romoved from graph in order to disconnect it?\n",
    "nx.node_connectivity(ER_G)"
   ]
  },
  {
   "cell_type": "code",
   "execution_count": null,
   "metadata": {},
   "outputs": [],
   "source": [
    "# which nodes?(the smallest set of nodes that needs to be removed to disconnect the graph)\n",
    "nx.minimum_node_cut(ER_G)"
   ]
  },
  {
   "cell_type": "code",
   "execution_count": null,
   "metadata": {},
   "outputs": [],
   "source": [
    "# what is the smallest number of edges that can be romoved from graph in order to disconnect it?\n",
    "nx.edge_connectivity(ER_G)"
   ]
  },
  {
   "cell_type": "code",
   "execution_count": null,
   "metadata": {},
   "outputs": [],
   "source": [
    "# which edge(s)?\n",
    "nx.minimum_edge_cut(ER_G)"
   ]
  },
  {
   "cell_type": "markdown",
   "metadata": {},
   "source": [
    "### I) Robustness (specific source and sink)\n"
   ]
  },
  {
   "cell_type": "code",
   "execution_count": null,
   "metadata": {},
   "outputs": [],
   "source": [
    "# all paths from i to j\n",
    "sorted(nx.all_simple_paths(ER_G, 1, 2))"
   ]
  },
  {
   "cell_type": "code",
   "execution_count": null,
   "metadata": {},
   "outputs": [],
   "source": [
    "# Node Connectivity: from i to j\n",
    "# If we wanted to block the message from i to j by removing nodes from the network, how many\n",
    "# nodes would we need to remove?\n",
    "nx.node_connectivity(ER_G, 1, 2)"
   ]
  },
  {
   "cell_type": "code",
   "execution_count": null,
   "metadata": {},
   "outputs": [],
   "source": [
    "# Which nodes?(the set of nodes we must remove in order to block msg from i to j)\n",
    "# {} when two nodes are connected!\n",
    "nx.minimum_node_cut(ER_G, 1, 2)"
   ]
  },
  {
   "cell_type": "markdown",
   "metadata": {},
   "source": [
    "#### Edge Connectivity\n"
   ]
  },
  {
   "cell_type": "markdown",
   "metadata": {},
   "source": [
    "If we wanted to block the message from i to j by\n",
    "removing edges from the network, how many\n",
    "edges would we need to remove?\n"
   ]
  },
  {
   "cell_type": "code",
   "execution_count": null,
   "metadata": {},
   "outputs": [],
   "source": [
    "nx.edge_connectivity(ER_G, 1, 2)"
   ]
  },
  {
   "cell_type": "code",
   "execution_count": null,
   "metadata": {},
   "outputs": [],
   "source": [
    "# Which edges?\n",
    "nx.minimum_edge_cut(ER_G, 1, 2)"
   ]
  },
  {
   "cell_type": "markdown",
   "metadata": {},
   "source": [
    "## 4-Centrality\n"
   ]
  },
  {
   "cell_type": "markdown",
   "metadata": {},
   "source": [
    "Centrality is a measure of the importance of nodes in a network based on their position and connectivity. There are different types of centrality measures, each capturing a different aspect of node importance.\n",
    "\n",
    "Some common centrality measures include degree centrality, betweenness centrality, closeness centrality, and eigenvector centrality.\n"
   ]
  },
  {
   "cell_type": "markdown",
   "metadata": {},
   "source": [
    "### A) Degree Centrality-undirected graphs\n"
   ]
  },
  {
   "cell_type": "markdown",
   "metadata": {},
   "source": [
    "Degree centrality is a measure of the importance of a node in a network based on the number of connections it has to other nodes. The degree centrality of a node $i$ can be calculated as:\n",
    "\n",
    "$$C_D(i) = \\frac{k_i}{n-1}$$\n",
    "\n",
    "where $k_i$ is the degree of node $i$, i.e., the number of edges that are incident to the node, and $n$ is the total number of nodes in the network. The denominator $n-1$ is used to account for the fact that a node cannot be connected to itself.\n",
    "\n",
    "The degree centrality of a node ranges from 0 to 1, with a higher value indicating a more central node in the network. Nodes with a high degree centrality are typically well-connected to other nodes, and their removal from the network can have a significant impact on its connectivity.\n"
   ]
  },
  {
   "cell_type": "code",
   "execution_count": null,
   "metadata": {},
   "outputs": [],
   "source": [
    "graph_karate = nx.karate_club_graph()\n",
    "graph_karate = nx.convert_node_labels_to_integers(graph_karate, first_label=1)\n",
    "nx.draw(graph_karate, with_labels=True)"
   ]
  },
  {
   "cell_type": "code",
   "execution_count": null,
   "metadata": {},
   "outputs": [],
   "source": [
    "# degree centrality\n",
    "degCent = nx.degree_centrality(graph_karate)\n",
    "degCent"
   ]
  },
  {
   "cell_type": "code",
   "execution_count": null,
   "metadata": {},
   "outputs": [],
   "source": [
    "# sort based on degree centrality\n",
    "sorted_degcent = {\n",
    "    k: v for k, v in sorted(degCent.items(), key=lambda item: item[1], reverse=True)\n",
    "}\n",
    "sorted_degcent"
   ]
  },
  {
   "cell_type": "code",
   "execution_count": null,
   "metadata": {},
   "outputs": [],
   "source": [
    "# degree centrality of a node\n",
    "\n",
    "degCent[34]"
   ]
  },
  {
   "cell_type": "code",
   "execution_count": null,
   "metadata": {},
   "outputs": [],
   "source": [
    "# draw a network with node sizes based on their degree centrality\n",
    "\n",
    "# create a list of node sizes based on degree centrality\n",
    "node_sizes = [10000 * v * v for v in degCent.values()]\n",
    "\n",
    "# draw the graph\n",
    "nx.draw(G, with_labels=True, node_size=node_sizes, pos=nx.spring_layout(G))"
   ]
  },
  {
   "cell_type": "code",
   "execution_count": null,
   "metadata": {},
   "outputs": [],
   "source": [
    "# colors based on degree centrality\n",
    "node_colors = [v for v in degCent.values()]\n",
    "# draw the graph\n",
    "nx.draw(\n",
    "    G,\n",
    "    with_labels=True,\n",
    "    node_size=node_sizes,\n",
    "    pos=nx.spring_layout(G),\n",
    "    node_color=node_colors,\n",
    "    cmap=plt.cm.PuBu,\n",
    ")  # Greens\n",
    "\n",
    "# PuBu stands for \"Pu\" (purple) to \"Bu\" (blue), and it is a sequential colormap that ranges from light purple to dark blue."
   ]
  },
  {
   "cell_type": "markdown",
   "metadata": {},
   "source": [
    "### B) Degree Centrality – Directed Networks\n"
   ]
  },
  {
   "cell_type": "markdown",
   "metadata": {},
   "source": [
    "Undirected networks: use degree\n",
    "\n",
    "Directed networks: use in-degree or out-degree\n"
   ]
  },
  {
   "cell_type": "code",
   "execution_count": null,
   "metadata": {},
   "outputs": [],
   "source": [
    "# describe a directedG gllobally\n",
    "# directed graph\n",
    "G = nx.DiGraph()\n",
    "\n",
    "G.add_edge(\"A\", \"B\")\n",
    "G.add_edge(\"A\", \"D\")\n",
    "G.add_edge(\"A\", \"C\")\n",
    "G.add_edge(\"B\", \"D\")\n",
    "\n",
    "# draw the nodes with labels\n",
    "nx.draw(G, with_labels=True)"
   ]
  },
  {
   "cell_type": "code",
   "execution_count": null,
   "metadata": {},
   "outputs": [],
   "source": [
    "# indegree\n",
    "indegCent = nx.in_degree_centrality(G)\n",
    "indegCent"
   ]
  },
  {
   "cell_type": "code",
   "execution_count": null,
   "metadata": {},
   "outputs": [],
   "source": [
    "# out-degree\n",
    "outdegCent = nx.out_degree_centrality(G)\n",
    "outdegCent"
   ]
  },
  {
   "cell_type": "code",
   "execution_count": null,
   "metadata": {},
   "outputs": [],
   "source": [
    "# A specific node\n",
    "outdegCent[\"A\"]"
   ]
  },
  {
   "cell_type": "markdown",
   "metadata": {},
   "source": [
    "### C) Closeness Centrality\n"
   ]
  },
  {
   "cell_type": "markdown",
   "metadata": {},
   "source": [
    "Closeness centrality is a measure of the average distance of a node to all other nodes in the network. The closeness centrality of a node $i$ can be calculated as:\n",
    "\n",
    "$$C_C(i) = \\frac{1}{\\sum\\limits_{j \\neq i} d_{ij}}$$\n",
    "\n",
    "where $d_{ij}$ is the shortest path distance between nodes $i$ and $j$. The closeness centrality of a node ranges from 0 to 1, with a higher value indicating a shorter average distance to all other nodes in the network.\n",
    "\n",
    "The closeness centrality of a node measures how quickly it can spread information or influence throughout the network, as nodes with a shorter average distance to all other nodes can communicate more efficiently. In addition, nodes with a high closeness centrality are often located in the center of the network, and their removal can have a significant impact on the network's connectivity.\n"
   ]
  },
  {
   "cell_type": "code",
   "execution_count": null,
   "metadata": {},
   "outputs": [],
   "source": [
    "# Closness centrality\n",
    "closeCent = nx.closeness_centrality(graph_karate)\n",
    "closeCent"
   ]
  },
  {
   "cell_type": "code",
   "execution_count": null,
   "metadata": {},
   "outputs": [],
   "source": [
    "# Another way to compute Closeness Centrality of a node\n",
    "NodeNumber = 34\n",
    "(len(graph_karate.nodes()) - 1) / sum(\n",
    "    nx.shortest_path_length(graph_karate, NodeNumber).values()\n",
    ")"
   ]
  },
  {
   "cell_type": "markdown",
   "metadata": {},
   "source": [
    "### D) Betweenness Centrality\n"
   ]
  },
  {
   "cell_type": "markdown",
   "metadata": {},
   "source": [
    "Betweenness centrality is a measure of the extent to which a node lies on the shortest paths between other nodes in the network. The betweenness centrality of a node $i$ can be calculated as:\n",
    "\n",
    "$$C_B(i) = \\sum\\limits_{s \\neq i \\neq t} \\frac{\\sigma_{st}(i)}{\\sigma_{st}}$$\n",
    "\n",
    "where $s$ and $t$ are two nodes in the network, $\\sigma_{st}$ is the total number of shortest paths between $s$ and $t$, and $\\sigma_{st}(i)$ is the number of shortest paths between $s$ and $t$ that pass through node $i$.\n",
    "\n",
    "The betweenness centrality of a node ranges from 0 to 1, with a higher value indicating a greater number of shortest paths that pass through the node. Nodes with a high betweenness centrality are often located on the \"bridges\" between different clusters or communities in the network, and their removal can have a significant impact on the network's connectivity.\n"
   ]
  },
  {
   "cell_type": "code",
   "execution_count": null,
   "metadata": {},
   "outputs": [],
   "source": [
    "btwnCent = nx.betweenness_centrality(graph_karate, endpoints=False)\n",
    "# endpoints = False states that each node dose not included in computation for shortest path numeration\n",
    "btwnCent"
   ]
  },
  {
   "cell_type": "code",
   "execution_count": null,
   "metadata": {},
   "outputs": [],
   "source": [
    "sorted_btwnCent = {\n",
    "    k: v for k, v in sorted(btwnCent.items(), key=lambda item: item[1], reverse=True)\n",
    "}\n",
    "sorted_btwnCent"
   ]
  },
  {
   "cell_type": "markdown",
   "metadata": {},
   "source": [
    "betwenness centrality values will\n",
    "be larger in graphs with many nodes. To control for\n",
    "this, we divide centrality values by the number of\n",
    "pairs of nodes in the graph (excluding i)\n"
   ]
  },
  {
   "cell_type": "code",
   "execution_count": null,
   "metadata": {},
   "outputs": [],
   "source": [
    "# comparison betweeness centrality in networks with diffrent number of nodes:\n",
    "# more nodes => bigger betweeness centrality => useing normalization\n",
    "btwnCent = nx.betweenness_centrality(\n",
    "    graph_karate, normalized=True, endpoints=False\n",
    ")  # defualt = normalize!\n",
    "btwnCent"
   ]
  },
  {
   "cell_type": "markdown",
   "metadata": {},
   "source": [
    "Computing betweenness centrality of all nodes can be\n",
    "very computationally expensive.\n",
    "\n",
    "Approximation: rather than computing\n",
    "betweenness centrality based on all pairs of nodes s,t ,\n",
    "we can approximate it based on a sample of nodes.\n"
   ]
  },
  {
   "cell_type": "code",
   "execution_count": null,
   "metadata": {},
   "outputs": [],
   "source": [
    "# betweenness centrality approximation\n",
    "btwnCent_approx = nx.betweenness_centrality(\n",
    "    graph_karate, normalized=True, endpoints=False, k=10\n",
    ")  # number of samples = k\n",
    "btwnCent_approx"
   ]
  },
  {
   "cell_type": "code",
   "execution_count": null,
   "metadata": {},
   "outputs": [],
   "source": [
    "sorted_btwnCent = {\n",
    "    k: v\n",
    "    for k, v in sorted(btwnCent_approx.items(), key=lambda item: item[1], reverse=True)\n",
    "}\n",
    "sorted_btwnCent"
   ]
  },
  {
   "cell_type": "markdown",
   "metadata": {},
   "source": [
    "#### Betweenness Centrality – Subsets\n"
   ]
  },
  {
   "cell_type": "code",
   "execution_count": null,
   "metadata": {},
   "outputs": [],
   "source": [
    "btwnCent_subset = nx.betweenness_centrality_subset(\n",
    "    graph_karate,\n",
    "    [34, 21, 30, 16, 27, 15, 23, 10],\n",
    "    [1, 4, 13, 11, 6, 12, 17, 7],\n",
    "    normalized=True,\n",
    ")\n",
    "btwnCent_subset"
   ]
  },
  {
   "cell_type": "markdown",
   "metadata": {},
   "source": [
    "### E) Betweenness Centrality – Edges\n"
   ]
  },
  {
   "cell_type": "markdown",
   "metadata": {},
   "source": [
    "Betweenness centrality for edges is a measure of the extent to which an edge lies on the shortest paths between other edges in the network. The betweenness centrality of an edge $e$ can be calculated as:\n",
    "\n",
    "$$C_B(e) = \\sum_{s \\neq e \\neq t} \\frac{\\sigma_{st}(e)}{\\sigma_{st}}$$\n",
    "\n",
    "where $s$ and $t$ are two nodes in the network, $\\sigma_{st}$ is the total number of shortest paths between $s$ and $t$, and $\\sigma_{st}(e)$ is the number of shortest paths between $s$ and $t$ that pass through edge $e$.\n",
    "\n",
    "The betweenness centrality of an edge ranges from 0 to 1, with a higher value indicating a greater number of shortest paths that pass through the edge. Edges with a high betweenness centrality are often located on the \"bridges\" between different clusters or communities in the network, and their removal can have a significant impact on the network's connectivity.\n"
   ]
  },
  {
   "cell_type": "code",
   "execution_count": null,
   "metadata": {},
   "outputs": [],
   "source": [
    "btwnCent_edge = nx.edge_betweenness_centrality(graph_karate, normalized=True)\n",
    "btwnCent_edge"
   ]
  },
  {
   "cell_type": "markdown",
   "metadata": {},
   "source": [
    "### G) Eigenvalue Centrality\n"
   ]
  },
  {
   "cell_type": "markdown",
   "metadata": {},
   "source": [
    "Eigenvalue centrality is a measure of the importance of a node in a network based on the importance of its neighbors. The eigenvalue centrality of a node $i$ can be calculated as the principal eigenvector of the adjacency matrix $\\mathbf{A}$ of the network:\n",
    "\n",
    "$$\\mathbf{Av} = \\lambda \\mathbf{v}$$\n",
    "\n",
    "where $\\mathbf{v}$ is the eigenvector corresponding to the largest eigenvalue $\\lambda$. The eigenvalue centrality of node $i$ is then given by the $i$-th element of $\\mathbf{v}$.\n",
    "\n",
    "The eigenvalue centrality of a node ranges from 0 to 1, with a higher value indicating a greater importance of the node and its neighbors in the network. Nodes with a high eigenvalue centrality are often located in the center of the network and are well-connected to other highly connected nodes, and their removal can have a significant impact on the network's connectivity.\n"
   ]
  },
  {
   "cell_type": "code",
   "execution_count": null,
   "metadata": {},
   "outputs": [],
   "source": [
    "# Compute the adjacency matrix of the network\n",
    "A = nx.adjacency_matrix(graph_karate)\n",
    "\n",
    "# Compute the principal eigenvector of the adjacency matrix\n",
    "eigenvector_centrality = nx.eigenvector_centrality_numpy(graph_karate)\n",
    "eigenvector_centrality"
   ]
  },
  {
   "cell_type": "code",
   "execution_count": null,
   "metadata": {},
   "outputs": [],
   "source": [
    "sorted_EigenCent = {\n",
    "    k: v\n",
    "    for k, v in sorted(\n",
    "        eigenvector_centrality.items(), key=lambda item: item[1], reverse=True\n",
    "    )\n",
    "}\n",
    "sorted_EigenCent"
   ]
  },
  {
   "cell_type": "markdown",
   "metadata": {},
   "source": [
    "#### Summery (comparison)\n"
   ]
  },
  {
   "cell_type": "code",
   "execution_count": null,
   "metadata": {},
   "outputs": [],
   "source": [
    "import pandas as pd\n",
    "\n",
    "# Create a dictionary of data\n",
    "data = {\n",
    "    \"Degree\": list(degCent.values()),\n",
    "    \"Closeness\": list(closeCent.values()),\n",
    "    \"Betweenness\": list(btwnCent.values()),\n",
    "    \"Eigenvalue\": list(eigenvector_centrality.values()),\n",
    "}\n",
    "\n",
    "# Create a pandas dataframe from the dictionary\n",
    "df = pd.DataFrame(data)\n",
    "df"
   ]
  },
  {
   "cell_type": "code",
   "execution_count": null,
   "metadata": {},
   "outputs": [],
   "source": [
    "# sorting\n",
    "df_sorted = df.sort_values(by=\"Degree\", ascending=False)\n",
    "df_sorted"
   ]
  },
  {
   "cell_type": "code",
   "execution_count": null,
   "metadata": {},
   "outputs": [],
   "source": [
    "df_two_rows = df.iloc[:2]\n",
    "df_two_rows"
   ]
  },
  {
   "cell_type": "markdown",
   "metadata": {},
   "source": [
    "## 5- Degree Distributions\n"
   ]
  },
  {
   "cell_type": "markdown",
   "metadata": {},
   "source": [
    "The degree distribution of a graph is the\n",
    "probability distribution of the degrees over the\n",
    "entire network.\n"
   ]
  },
  {
   "cell_type": "code",
   "execution_count": null,
   "metadata": {},
   "outputs": [],
   "source": [
    "# degrees\n",
    "degrees = dict(graph_karate.degree())\n",
    "degree_values = sorted(set(degrees.values()))\n",
    "histogram = [\n",
    "    list(degrees.values()).count(i) / float(nx.number_of_nodes(graph_karate))\n",
    "    for i in degree_values\n",
    "]\n",
    "\n",
    "# histogram\n",
    "import matplotlib.pyplot as plt\n",
    "\n",
    "plt.bar(degree_values, histogram)\n",
    "plt.xlabel(\"Degree\")\n",
    "plt.ylabel(\"Fraction of Nodes\")\n",
    "plt.show()"
   ]
  },
  {
   "cell_type": "markdown",
   "metadata": {},
   "source": [
    "#### In-Degree Distributions\n"
   ]
  },
  {
   "cell_type": "markdown",
   "metadata": {},
   "source": [
    "The in-degree of a node in a directed graph is\n",
    "the number of in-links it has.\n"
   ]
  },
  {
   "cell_type": "code",
   "execution_count": null,
   "metadata": {},
   "outputs": [],
   "source": [
    "nx.draw(G, with_labels=True)"
   ]
  },
  {
   "cell_type": "code",
   "execution_count": null,
   "metadata": {},
   "outputs": [],
   "source": [
    "in_degrees = dict(G.in_degree())\n",
    "in_degree_values = sorted(set(in_degrees.values()))\n",
    "histogram = [\n",
    "    list(in_degrees.values()).count(i) / float(nx.number_of_nodes(G))\n",
    "    for i in in_degree_values\n",
    "]\n",
    "plt.bar(in_degree_values, histogram)\n",
    "plt.xlabel(\"In Degree\")\n",
    "plt.ylabel(\"Fraction of Nodes\")\n",
    "plt.show()"
   ]
  },
  {
   "cell_type": "markdown",
   "metadata": {},
   "source": [
    "### Power law\n"
   ]
  },
  {
   "cell_type": "markdown",
   "metadata": {},
   "source": [
    "The power law degree distribution is characterized by a heavy tail, with a few nodes having a very high degree and the majority having only a few. The degree distribution can be described by a power law function of the form:\n",
    "\n",
    "$$P(k) \\propto k^{-\\gamma}$$\n",
    "\n",
    "where $k$ is the degree of a node, $P(k)$ is the probability of a node having degree $k$, and $\\gamma$ is the exponent of the power law. The exponent $\\gamma$ is typically in the range of 2 to 3 for most real-world networks.\n",
    "\n",
    "The power law degree distribution has important implications for the structure and function of networks. For example, networks with a power law degree distribution are often more robust and resilient to random failures, but more vulnerable to targeted attacks on high-degree nodes.\n"
   ]
  },
  {
   "cell_type": "markdown",
   "metadata": {},
   "source": [
    "Networks with power law\n",
    "distribution have many nodes\n",
    "with small degree and a few\n",
    "nodes with very large degree.\n",
    "\n",
    "few riches, lots of poors!\n"
   ]
  },
  {
   "cell_type": "code",
   "execution_count": null,
   "metadata": {},
   "outputs": [],
   "source": [
    "degrees = dict(graph_karate.degree())\n",
    "degree_values = sorted(set(degrees.values()))\n",
    "histogram = [\n",
    "    list(degrees.values()).count(i) / float(nx.number_of_nodes(G))\n",
    "    for i in degree_values\n",
    "]\n",
    "\n",
    "# plotting\n",
    "plt.plot(degree_values, histogram, \"o\")\n",
    "plt.xlabel(\"Degree\")\n",
    "plt.ylabel(\"Fraction of Nodes\")\n",
    "plt.xscale(\"log\")\n",
    "plt.yscale(\"log\")\n",
    "plt.show()"
   ]
  },
  {
   "cell_type": "markdown",
   "metadata": {},
   "source": [
    "#### Preferential Attachment in NetworkX\n"
   ]
  },
  {
   "cell_type": "markdown",
   "metadata": {},
   "source": [
    "You can use barabasi_albert_graph(n,m) to construct a n-node preferential\n",
    "attachment network, where each new node attaches to m existing nodes.\n"
   ]
  },
  {
   "cell_type": "code",
   "execution_count": null,
   "metadata": {},
   "outputs": [],
   "source": [
    "n = 500  # n-node\n",
    "m = 2  # each new node attaches to m existing nodes.\n",
    "G = nx.barabasi_albert_graph(n, m)\n",
    "\n",
    "# degrees\n",
    "degrees = dict(G.degree())\n",
    "degree_values = sorted(set(degrees.values()))\n",
    "histogram = [\n",
    "    list(degrees.values()).count(i) / float(nx.number_of_nodes(G))\n",
    "    for i in degree_values\n",
    "]\n",
    "\n",
    "# plotting\n",
    "plt.plot(degree_values, histogram, \"o\")\n",
    "plt.xlabel(\"Degree\")\n",
    "plt.ylabel(\"Fraction of Nodes\")\n",
    "plt.xscale(\"log\")\n",
    "plt.yscale(\"log\")\n",
    "plt.show()"
   ]
  },
  {
   "cell_type": "code",
   "execution_count": null,
   "metadata": {},
   "outputs": [],
   "source": [
    "nx.draw(G, node_size=1)"
   ]
  },
  {
   "cell_type": "markdown",
   "metadata": {},
   "source": [
    "Social networks tend to have high clustering coefficient and small average path length.\n"
   ]
  },
  {
   "cell_type": "code",
   "execution_count": null,
   "metadata": {},
   "outputs": [],
   "source": [
    "print(nx.average_clustering(G))  # rather low clustring(limitation of the model)\n",
    "print(nx.average_shortest_path_length(G))  # but a short Diameter"
   ]
  },
  {
   "cell_type": "markdown",
   "metadata": {},
   "source": [
    "#### Small World Model\n"
   ]
  },
  {
   "cell_type": "code",
   "execution_count": null,
   "metadata": {},
   "outputs": [],
   "source": [
    "G = nx.watts_strogatz_graph(1000, 6, 0.04)\n",
    "degrees = dict(G.degree())\n",
    "degree_values = sorted(set(degrees.values()))\n",
    "histogram = [\n",
    "    list(degrees.values()).count(i) / float(nx.number_of_nodes(G))\n",
    "    for i in degree_values\n",
    "]\n",
    "plt.bar(degree_values, histogram)\n",
    "plt.xlabel(\"Degree\")\n",
    "plt.ylabel(\"Fraction of Nodes\")\n",
    "plt.show()"
   ]
  },
  {
   "cell_type": "markdown",
   "metadata": {},
   "source": [
    "## 6- Community Detection\n"
   ]
  },
  {
   "cell_type": "code",
   "execution_count": null,
   "metadata": {},
   "outputs": [],
   "source": [
    "pip install community"
   ]
  },
  {
   "cell_type": "code",
   "execution_count": null,
   "metadata": {},
   "outputs": [],
   "source": [
    "import community"
   ]
  },
  {
   "cell_type": "code",
   "execution_count": null,
   "metadata": {},
   "outputs": [],
   "source": [
    "# karate club network\n",
    "G = nx.karate_club_graph()\n",
    "\n",
    "# compute the communities using the Label Propagation algorithm\n",
    "communities = nx.algorithms.community.label_propagation.label_propagation_communities(G)\n",
    "\n",
    "# print the communities\n",
    "for i, c in enumerate(communities):\n",
    "    print(f\"Community {i}: {c}\")"
   ]
  },
  {
   "cell_type": "code",
   "execution_count": null,
   "metadata": {},
   "outputs": [],
   "source": [
    "# create a node color list based on the partition\n",
    "\n",
    "node_colors = []\n",
    "for n in G.nodes():\n",
    "    if n in list(communities)[0]:\n",
    "        node_colors.append(1)\n",
    "    elif n in list(communities)[1]:\n",
    "        node_colors.append(2)\n",
    "    else:\n",
    "        node_colors.append(3)\n",
    "\n",
    "# draw the graph with node colors based on the partition\n",
    "pos = nx.spring_layout(G)\n",
    "nx.draw(\n",
    "    G, pos, node_color=node_colors, cmap=plt.cm.get_cmap(\"viridis\"), with_labels=True\n",
    ")\n",
    "plt.show()"
   ]
  },
  {
   "cell_type": "code",
   "execution_count": null,
   "metadata": {},
   "outputs": [],
   "source": [
    "#!\n",
    "G.node[\"A\"][\"community\"] = 0\n",
    "G.node[\"B\"][\"community\"] = 0\n",
    "G.node[\"C\"][\"community\"] = 0\n",
    "G.node[\"D\"][\"community\"] = 0\n",
    "G.node[\"E\"][\"community\"] = 1\n",
    "G.node[\"F\"][\"community\"] = 1\n",
    "G.node[\"G\"][\"community\"] = 1\n",
    "G.node[\"H\"][\"community\"] = 1"
   ]
  },
  {
   "cell_type": "markdown",
   "metadata": {},
   "source": [
    "# Additionals\n"
   ]
  },
  {
   "cell_type": "markdown",
   "metadata": {},
   "source": [
    "NetworkX provides several built-in networks that can be used for testing and experimentation. These networks are available in the `networkx.generators` module and can be generated using functions that start with the prefix `nx.` followed by the name of the network type.\n",
    "\n",
    "Here are some examples of the built-in networks in NetworkX:\n",
    "\n",
    "- `nx.complete_graph(n)` - Generates a complete graph with `n` nodes, where each node is connected to every other node by an undirected edge.\n",
    "\n",
    "- `nx.cycle_graph(n)` - Generates a cycle graph with `n` nodes, where each node is connected to its two adjacent nodes by an undirected edge, and the last node is connected to the first node.\n",
    "\n",
    "- `nx.grid_graph(dim)` - Generates a grid graph with `dim` dimensions, where each node represents a cell in a `dim`-dimensional grid, and two nodes are connected by an undirected edge if they are adjacent cells in the grid.\n",
    "\n",
    "- `nx.balanced_tree(r, h)` - Generates a balanced tree with branching factor `r` and height `h`, where each node has exactly `r` children except for the leaf nodes at height `h`, which have no children.\n",
    "\n",
    "These are just a few examples of the built-in networks in NetworkX. You can find more information about the available network types and their parameters in the `networkx.generators` module documentation.\n"
   ]
  },
  {
   "cell_type": "code",
   "execution_count": null,
   "metadata": {},
   "outputs": [],
   "source": [
    "# complete network\n",
    "n = 10  # parameter\n",
    "nx.complete_graph(n)\n",
    "nx.draw(nx.complete_graph(n))"
   ]
  },
  {
   "cell_type": "code",
   "execution_count": null,
   "metadata": {},
   "outputs": [],
   "source": [
    "# cycle netwrok\n",
    "n = 10  # parameter\n",
    "nx.complete_graph(n)\n",
    "nx.draw(nx.cycle_graph(n))"
   ]
  },
  {
   "cell_type": "code",
   "execution_count": null,
   "metadata": {},
   "outputs": [],
   "source": [
    "# cycle netwrok\n",
    "r, h = 2, 5  # parameter\n",
    "nx.complete_graph(n)\n",
    "nx.draw(nx.balanced_tree(r, h))"
   ]
  },
  {
   "cell_type": "code",
   "execution_count": null,
   "metadata": {},
   "outputs": [],
   "source": [
    "# create a 2D grid graph with 3 rows and 4 columns\n",
    "G = nx.grid_graph(dim=[3, 4])\n",
    "\n",
    "# draw the graph\n",
    "nx.draw(G, with_labels=True)"
   ]
  }
 ],
 "metadata": {
  "kernelspec": {
   "display_name": "coding-lab",
   "language": "python",
   "name": "python3"
  },
  "language_info": {
   "codemirror_mode": {
    "name": "ipython",
    "version": 3
   },
   "file_extension": ".py",
   "mimetype": "text/x-python",
   "name": "python",
   "nbconvert_exporter": "python",
   "pygments_lexer": "ipython3",
   "version": "3.11.9"
  }
 },
 "nbformat": 4,
 "nbformat_minor": 5
}
