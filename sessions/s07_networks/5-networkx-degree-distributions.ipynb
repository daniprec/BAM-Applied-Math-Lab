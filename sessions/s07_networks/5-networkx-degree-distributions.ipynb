{
 "cells": [
  {
   "cell_type": "markdown",
   "metadata": {},
   "source": [
    "# NetworkX\n"
   ]
  },
  {
   "cell_type": "markdown",
   "metadata": {},
   "source": [
    "## Installing NetworkX\n"
   ]
  },
  {
   "cell_type": "markdown",
   "id": "cc8bed31",
   "metadata": {},
   "source": [
    "If you are running this notebook online (in Google Colaboratory, for example), you can install NetworkX by running the following command:\n"
   ]
  },
  {
   "cell_type": "code",
   "execution_count": 121,
   "metadata": {},
   "outputs": [],
   "source": [
    "# !pip install networkx"
   ]
  },
  {
   "cell_type": "markdown",
   "metadata": {},
   "source": [
    "## 5. Degree Distributions\n"
   ]
  },
  {
   "cell_type": "markdown",
   "metadata": {},
   "source": [
    "The degree distribution of a graph is the\n",
    "probability distribution of the degrees over the\n",
    "entire network.\n"
   ]
  },
  {
   "cell_type": "code",
   "execution_count": null,
   "metadata": {},
   "outputs": [],
   "source": [
    "# degrees\n",
    "degrees = dict(graph_karate.degree())\n",
    "degree_values = sorted(set(degrees.values()))\n",
    "histogram = [\n",
    "    list(degrees.values()).count(i) / float(nx.number_of_nodes(graph_karate))\n",
    "    for i in degree_values\n",
    "]\n",
    "\n",
    "# histogram\n",
    "import matplotlib.pyplot as plt\n",
    "\n",
    "plt.bar(degree_values, histogram)\n",
    "plt.xlabel(\"Degree\")\n",
    "plt.ylabel(\"Fraction of Nodes\")\n",
    "plt.show()"
   ]
  },
  {
   "cell_type": "markdown",
   "metadata": {},
   "source": [
    "#### In-Degree Distributions\n"
   ]
  },
  {
   "cell_type": "markdown",
   "metadata": {},
   "source": [
    "The in-degree of a node in a directed graph is\n",
    "the number of in-links it has.\n"
   ]
  },
  {
   "cell_type": "code",
   "execution_count": null,
   "metadata": {},
   "outputs": [],
   "source": [
    "nx.draw(G, with_labels=True)"
   ]
  },
  {
   "cell_type": "code",
   "execution_count": null,
   "metadata": {},
   "outputs": [],
   "source": [
    "in_degrees = dict(G.in_degree())\n",
    "in_degree_values = sorted(set(in_degrees.values()))\n",
    "histogram = [\n",
    "    list(in_degrees.values()).count(i) / float(nx.number_of_nodes(G))\n",
    "    for i in in_degree_values\n",
    "]\n",
    "plt.bar(in_degree_values, histogram)\n",
    "plt.xlabel(\"In Degree\")\n",
    "plt.ylabel(\"Fraction of Nodes\")\n",
    "plt.show()"
   ]
  },
  {
   "cell_type": "markdown",
   "metadata": {},
   "source": [
    "### Power law\n"
   ]
  },
  {
   "cell_type": "markdown",
   "metadata": {},
   "source": [
    "The power law degree distribution is characterized by a heavy tail, with a few nodes having a very high degree and the majority having only a few. The degree distribution can be described by a power law function of the form:\n",
    "\n",
    "$$P(k) \\propto k^{-\\gamma}$$\n",
    "\n",
    "where $k$ is the degree of a node, $P(k)$ is the probability of a node having degree $k$, and $\\gamma$ is the exponent of the power law. The exponent $\\gamma$ is typically in the range of 2 to 3 for most real-world networks.\n",
    "\n",
    "The power law degree distribution has important implications for the structure and function of networks. For example, networks with a power law degree distribution are often more robust and resilient to random failures, but more vulnerable to targeted attacks on high-degree nodes.\n"
   ]
  },
  {
   "cell_type": "markdown",
   "metadata": {},
   "source": [
    "Networks with power law\n",
    "distribution have many nodes\n",
    "with small degree and a few\n",
    "nodes with very large degree.\n",
    "\n",
    "few riches, lots of poors!\n"
   ]
  },
  {
   "cell_type": "code",
   "execution_count": null,
   "metadata": {},
   "outputs": [],
   "source": [
    "degrees = dict(graph_karate.degree())\n",
    "degree_values = sorted(set(degrees.values()))\n",
    "histogram = [\n",
    "    list(degrees.values()).count(i) / float(nx.number_of_nodes(G))\n",
    "    for i in degree_values\n",
    "]\n",
    "\n",
    "# plotting\n",
    "plt.plot(degree_values, histogram, \"o\")\n",
    "plt.xlabel(\"Degree\")\n",
    "plt.ylabel(\"Fraction of Nodes\")\n",
    "plt.xscale(\"log\")\n",
    "plt.yscale(\"log\")\n",
    "plt.show()"
   ]
  },
  {
   "cell_type": "markdown",
   "metadata": {},
   "source": [
    "#### Preferential Attachment in NetworkX\n"
   ]
  },
  {
   "cell_type": "markdown",
   "metadata": {},
   "source": [
    "You can use barabasi_albert_graph(n,m) to construct a n-node preferential\n",
    "attachment network, where each new node attaches to m existing nodes.\n"
   ]
  },
  {
   "cell_type": "code",
   "execution_count": null,
   "metadata": {},
   "outputs": [],
   "source": [
    "n = 500  # n-node\n",
    "m = 2  # each new node attaches to m existing nodes.\n",
    "G = nx.barabasi_albert_graph(n, m)\n",
    "\n",
    "# degrees\n",
    "degrees = dict(G.degree())\n",
    "degree_values = sorted(set(degrees.values()))\n",
    "histogram = [\n",
    "    list(degrees.values()).count(i) / float(nx.number_of_nodes(G))\n",
    "    for i in degree_values\n",
    "]\n",
    "\n",
    "# plotting\n",
    "plt.plot(degree_values, histogram, \"o\")\n",
    "plt.xlabel(\"Degree\")\n",
    "plt.ylabel(\"Fraction of Nodes\")\n",
    "plt.xscale(\"log\")\n",
    "plt.yscale(\"log\")\n",
    "plt.show()"
   ]
  },
  {
   "cell_type": "code",
   "execution_count": null,
   "metadata": {},
   "outputs": [],
   "source": [
    "nx.draw(G, node_size=1)"
   ]
  },
  {
   "cell_type": "markdown",
   "metadata": {},
   "source": [
    "Social networks tend to have high clustering coefficient and small average path length.\n"
   ]
  },
  {
   "cell_type": "code",
   "execution_count": null,
   "metadata": {},
   "outputs": [],
   "source": [
    "print(nx.average_clustering(G))  # rather low clustring(limitation of the model)\n",
    "print(nx.average_shortest_path_length(G))  # but a short Diameter"
   ]
  },
  {
   "cell_type": "markdown",
   "metadata": {},
   "source": [
    "#### Small World Model\n"
   ]
  },
  {
   "cell_type": "code",
   "execution_count": null,
   "metadata": {},
   "outputs": [],
   "source": [
    "G = nx.watts_strogatz_graph(1000, 6, 0.04)\n",
    "degrees = dict(G.degree())\n",
    "degree_values = sorted(set(degrees.values()))\n",
    "histogram = [\n",
    "    list(degrees.values()).count(i) / float(nx.number_of_nodes(G))\n",
    "    for i in degree_values\n",
    "]\n",
    "plt.bar(degree_values, histogram)\n",
    "plt.xlabel(\"Degree\")\n",
    "plt.ylabel(\"Fraction of Nodes\")\n",
    "plt.show()"
   ]
  }
 ],
 "metadata": {
  "kernelspec": {
   "display_name": "coding-lab",
   "language": "python",
   "name": "python3"
  },
  "language_info": {
   "codemirror_mode": {
    "name": "ipython",
    "version": 3
   },
   "file_extension": ".py",
   "mimetype": "text/x-python",
   "name": "python",
   "nbconvert_exporter": "python",
   "pygments_lexer": "ipython3",
   "version": "3.11.9"
  }
 },
 "nbformat": 4,
 "nbformat_minor": 5
}
